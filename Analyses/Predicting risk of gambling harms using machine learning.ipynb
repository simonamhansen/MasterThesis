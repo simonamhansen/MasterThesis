{
 "metadata": {
  "language_info": {
   "codemirror_mode": {
    "name": "ipython",
    "version": 3
   },
   "file_extension": ".py",
   "mimetype": "text/x-python",
   "name": "python",
   "nbconvert_exporter": "python",
   "pygments_lexer": "ipython3",
   "version": "3.8.5"
  },
  "orig_nbformat": 2,
  "kernelspec": {
   "name": "python385jvsc74a57bd05f11122e9dd1822869090d3a2dcbae593c545f82951b19db1d44d29e050f8849",
   "display_name": "Python 3.8.5 64-bit ('GameScanner-2EwedCX8': pipenv)"
  }
 },
 "nbformat": 4,
 "nbformat_minor": 2,
 "cells": [
  {
   "source": [
    "### Predict overall risk score"
   ],
   "cell_type": "markdown",
   "metadata": {}
  },
  {
   "cell_type": "code",
   "execution_count": 11,
   "metadata": {},
   "outputs": [],
   "source": [
    "# Import libraries\n",
    "import pandas as pd\n",
    "from sklearn.linear_model import BayesianRidge, LogisticRegression\n",
    "from sklearn import svm\n",
    "from sklearn.model_selection import cross_val_score, cross_val_predict\n",
    "from sklearn.ensemble import RandomForestRegressor, RandomForestClassifier\n",
    "import matplotlib.pyplot as plt\n",
    "from sklearn.metrics import r2_score, matthews_corrcoef\n",
    "from sklearn.naive_bayes import GaussianNB\n",
    "from sklearn.inspection import permutation_importance"
   ]
  },
  {
   "cell_type": "code",
   "execution_count": 2,
   "metadata": {},
   "outputs": [],
   "source": [
    "# Read data\n",
    "data = pd.read_csv(\"final_data_wide.csv\", index_col = 0 )"
   ]
  },
  {
   "cell_type": "code",
   "execution_count": 49,
   "metadata": {},
   "outputs": [
    {
     "output_type": "execute_result",
     "data": {
      "text/plain": [
       "High risk        136\n",
       "Non high risk     67\n",
       "Name: risk_class, dtype: int64"
      ]
     },
     "metadata": {},
     "execution_count": 49
    }
   ],
   "source": [
    "# Only gamblers with full data\n",
    "data_noNA = data.dropna()\n",
    "y= data_noNA[\"risk_class\"]\n",
    "x = data_noNA.iloc[:,3:23]\n",
    "y.value_counts()"
   ]
  },
  {
   "cell_type": "code",
   "execution_count": 46,
   "metadata": {},
   "outputs": [
    {
     "output_type": "execute_result",
     "data": {
      "text/plain": [
       "High risk        217\n",
       "Non high risk    174\n",
       "Name: risk_class, dtype: int64"
      ]
     },
     "metadata": {},
     "execution_count": 46
    }
   ],
   "source": [
    "# Only take the last 3 months\n",
    "data_last3months = data[data['6Ahab_s'].notna()]\n",
    "y= data_last3months[\"risk_class\"]\n",
    "x = data_last3months.iloc[:,18:23]\n",
    "y.value_counts()"
   ]
  },
  {
   "cell_type": "code",
   "execution_count": 10,
   "metadata": {
    "tags": []
   },
   "outputs": [
    {
     "output_type": "stream",
     "name": "stdout",
     "text": [
      "[0.66414141 0.62834225 0.61229947 0.5013369  0.56951872 0.69385027\n",
      " 0.57352941 0.62698413 0.5        0.56746032]\n",
      "0.6136066547831254\n"
     ]
    }
   ],
   "source": [
    "# Random Forrest classifier\n",
    "clf_forest = RandomForestClassifier()\n",
    "print(cross_val_score(clf_forest, x, y, cv = 10, scoring='balanced_accuracy'))\n",
    "print(sum(cross_val_score(clf_forest, x, y, cv = 10, scoring='balanced_accuracy'))/10)"
   ]
  },
  {
   "cell_type": "code",
   "execution_count": 15,
   "metadata": {
    "tags": []
   },
   "outputs": [
    {
     "output_type": "stream",
     "name": "stdout",
     "text": [
      "[0.78282828 0.52406417 0.59224599 0.5855615  0.5040107  0.64438503\n 0.56951872 0.53174603 0.57936508 0.5952381 ]\n0.5908963585434173\n"
     ]
    }
   ],
   "source": [
    "# Gaussian Naive Bayes classifier\n",
    "naivebayes  = GaussianNB()\n",
    "print(cross_val_score(naivebayes, x, y, cv = 10, scoring='balanced_accuracy'))\n",
    "print(sum(cross_val_score(naivebayes, x, y, cv = 10, scoring='balanced_accuracy'))/10)"
   ]
  },
  {
   "cell_type": "code",
   "execution_count": 16,
   "metadata": {
    "tags": []
   },
   "outputs": [
    {
     "output_type": "stream",
     "name": "stdout",
     "text": [
      "[0.73232323 0.54679144 0.61497326 0.53342246 0.45855615 0.68983957\n 0.59224599 0.50396825 0.57936508 0.57142857]\n0.5822914014090484\n"
     ]
    }
   ],
   "source": [
    "# Logistic regression\n",
    "log_reg = LogisticRegression()\n",
    "print(cross_val_score(log_reg, x, y, cv = 10, scoring='balanced_accuracy'))\n",
    "print(sum(cross_val_score(log_reg, x, y, cv = 10, scoring='balanced_accuracy'))/10)\n"
   ]
  },
  {
   "cell_type": "code",
   "execution_count": 17,
   "metadata": {
    "tags": []
   },
   "outputs": [
    {
     "output_type": "stream",
     "name": "stdout",
     "text": [
      "[0.73232323 0.52406417 0.56283422 0.55614973 0.54010695 0.63770053\n 0.64438503 0.52380952 0.5515873  0.56746032]\n0.5840421016891605\n"
     ]
    }
   ],
   "source": [
    "# Suport vector classifier\n",
    "svc = svm.SVC()\n",
    "print(cross_val_score(svc, x, y, cv = 10, scoring='balanced_accuracy'))\n",
    "print(sum(cross_val_score(svc, x, y, cv = 10, scoring='balanced_accuracy'))/10)"
   ]
  },
  {
   "cell_type": "code",
   "execution_count": 51,
   "metadata": {},
   "outputs": [],
   "source": [
    "clf_predictions = cross_val_predict(clf_forest, x, y, cv = 10)\n",
    "naivebayes_predictions = cross_val_predict(naivebayes, x, y, cv = 10)\n",
    "log_prediction = cross_val_predict(log_reg, x, y, cv = 10)\n",
    "svm_predictions = cross_val_predict(svc, x, y, cv = 10)"
   ]
  },
  {
   "cell_type": "code",
   "execution_count": 47,
   "metadata": {},
   "outputs": [
    {
     "output_type": "stream",
     "name": "stdout",
     "text": [
      "0.21842785544339377\n0.19669644592632904\n0.1794373570092452\n0.1842165286706904\n"
     ]
    }
   ],
   "source": [
    "# Phi coefficient\n",
    "print(matthews_corrcoef(y, clf_predictions))\n",
    "print(matthews_corrcoef(y, naivebayes_predictions))\n",
    "print(matthews_corrcoef(y, log_prediction))\n",
    "print(matthews_corrcoef(y, svm_predictions))"
   ]
  },
  {
   "source": [
    "### Predict specific risk factors "
   ],
   "cell_type": "markdown",
   "metadata": {}
  },
  {
   "cell_type": "code",
   "execution_count": 54,
   "metadata": {},
   "outputs": [],
   "source": [
    "# Load risk factors\n",
    "expert_labels = pd.read_csv(\"Data/Thesis_expert_ratings.csv\", index_col = 0 )"
   ]
  },
  {
   "cell_type": "code",
   "execution_count": 55,
   "metadata": {},
   "outputs": [],
   "source": [
    "# Merge with data \n",
    "all_dat = pd.merge(data, expert_labels, left_on='ID', right_on= \"PlayerID\")"
   ]
  },
  {
   "cell_type": "code",
   "execution_count": 56,
   "metadata": {},
   "outputs": [],
   "source": [
    "# Only take the last 3 months\n",
    "alldat_last3months = all_dat[all_dat['6Ahab_s'].notna()]\n",
    "x = alldat_last3months.iloc[:,18:23]"
   ]
  },
  {
   "cell_type": "code",
   "execution_count": 14,
   "metadata": {},
   "outputs": [
    {
     "output_type": "stream",
     "name": "stdout",
     "text": [
      "Loss chasing\n",
      "[0.48290598 0.56944444 0.59259259 0.59615385 0.5        0.46153846\n",
      " 0.57692308 0.57692308 0.65384615 0.40384615]\n",
      "0.541417378917379\n",
      "Fluctuating wagers\n",
      "[0.48290598 0.77777778 0.67592593 0.61574074 0.71759259 0.51388889\n",
      " 0.63425926 0.70833333 0.71296296 0.69230769]\n",
      "0.6531695156695156\n",
      "Loss of control\n",
      "[0.56666667 0.6        0.53103448 0.49827586 0.43103448 0.58275862\n",
      " 0.49827586 0.46551724 0.47777778 0.52777778]\n",
      "0.5179118773946361\n",
      "Number of days played\n",
      "[0.5        0.5        0.5        0.5        0.5        0.48648649\n",
      " 0.5        0.48611111 0.5        0.5       ]\n",
      "0.4972597597597598\n",
      "Overall consumption\n",
      "[0.51666667 0.56551724 0.51551724 0.46551724 0.46551724 0.48275862\n",
      " 0.49827586 0.56551724 0.53103448 0.49827586]\n",
      "0.5104597701149426\n",
      "Time of day\n",
      "[0.49333333 0.59857143 0.55416667 0.425      0.33333333 0.5375\n",
      " 0.61666667 0.57083333 0.52083333 0.61666667]\n",
      "0.5266904761904762\n",
      "Time consumption\n",
      "[0.53535354 0.54679144 0.44919786 0.58730159 0.55555556 0.51190476\n",
      " 0.50793651 0.68253968 0.55555556 0.55555556]\n",
      "0.5487692046515575\n",
      "Repeated loss of winnings\n",
      "[0.45       0.51578947 0.46184211 0.41447368 0.56973684 0.48815789\n",
      " 0.56315789 0.53684211 0.58684211 0.48684211]\n",
      "0.5073684210526315\n",
      "Tolerance\n",
      "[0.5 0.5 0.5 0.5 0.5 0.5 0.5 0.5 0.5 0.5]\n",
      "0.5\n",
      "Number of deposits\n",
      "[0.69333333 0.41142857 0.74142857 0.63428571 0.57428571 0.59428571\n",
      " 0.63428571 0.49142857 0.65428571 0.54166667]\n",
      "0.5970714285714285\n",
      "Cancelled withdrawals\n",
      "[0.53333333 0.46551724 0.55       0.55       0.45       0.53888889\n",
      " 0.48333333 0.61111111 0.61111111 0.53888889]\n",
      "0.5332183908045978\n",
      "Repeated deposits on loss\n",
      "[0.56666667 0.53888889 0.46666667 0.67777778 0.46666667 0.61111111\n",
      " 0.57777778 0.5637931  0.64827586 0.56551724]\n",
      "0.5683141762452107\n",
      "One day problem gambler\n",
      "[1. 1. 1. 1. 1. 1. 1. 1. 1. 1.]\n",
      "1.0\n",
      "Runs of gambling\n",
      "[0.47142857 0.48571429 0.5        0.5        0.5        0.5\n",
      " 0.5        0.5        0.5        0.5       ]\n",
      "0.4957142857142857\n"
     ]
    }
   ],
   "source": [
    "# Calculate balanced accuracy\n",
    "clf_forest = RandomForestClassifier()\n",
    "\n",
    "for i in range(25, 39):\n",
    "    y = alldat_last3months.iloc[:,i]\n",
    "    print(alldat_last3months.columns[i])\n",
    "    res_list=cross_val_score(clf_forest, x, y, cv = 10, scoring='balanced_accuracy')\n",
    "    print(res_list)\n",
    "    print(sum(res_list)/10)"
   ]
  },
  {
   "cell_type": "code",
   "execution_count": 59,
   "metadata": {},
   "outputs": [
    {
     "output_type": "stream",
     "name": "stdout",
     "text": [
      "Loss chasing\n",
      "0.07634938539044127\n",
      "Fluctuating wagers\n",
      "0.3111752786887468\n",
      "Loss of control\n",
      "0.06671960795565031\n",
      "Number of days played\n",
      "-0.022981280637945606\n",
      "Overall consumption\n",
      "-0.0329733641411196\n",
      "Time of day\n",
      "0.10636539385830512\n",
      "Time consumption\n",
      "0.09239188325199153\n",
      "Repeated loss of winnings\n",
      "0.03355406133735526\n",
      "Tolerance\n",
      "C:\\Users\\SimonAnnebergMerrild\\.virtualenvs\\GameScanner-2EwedCX8\\lib\\site-packages\\sklearn\\metrics\\_classification.py:846: RuntimeWarning: invalid value encountered in double_scalars\n",
      "  mcc = cov_ytyp / np.sqrt(cov_ytyt * cov_ypyp)\n",
      "0.0\n",
      "Number of deposits\n",
      "0.1890890402328506\n",
      "Cancelled withdrawals\n",
      "0.10643331449149458\n",
      "Repeated deposits on loss\n",
      "0.12482678195312291\n",
      "One day problem gambler\n",
      "C:\\Users\\SimonAnnebergMerrild\\.virtualenvs\\GameScanner-2EwedCX8\\lib\\site-packages\\sklearn\\metrics\\_classification.py:846: RuntimeWarning: invalid value encountered in double_scalars\n",
      "  mcc = cov_ytyp / np.sqrt(cov_ytyt * cov_ypyp)\n",
      "0.0\n",
      "Runs of gambling\n",
      "-0.02682339566637788\n"
     ]
    }
   ],
   "source": [
    "# Calculate phi coefficient\n",
    "\n",
    "clf_forest = RandomForestClassifier()\n",
    "\n",
    "for i in range(25, 39):\n",
    "    y = alldat_last3months.iloc[:,i]\n",
    "    print(alldat_last3months.columns[i])\n",
    "    preds=cross_val_predict(clf_forest, x, y, cv = 10)\n",
    "    print(matthews_corrcoef(y, preds))"
   ]
  }
 ]
}